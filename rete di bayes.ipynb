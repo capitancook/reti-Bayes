{
 "cells": [
  {
   "cell_type": "code",
   "execution_count": 1,
   "metadata": {},
   "outputs": [],
   "source": [
    "from pomegranate import *\n",
    "\n",
    "# creiamo il nodo pioggia senza genitori\n",
    "pioggia = Node(DiscreteDistribution({\n",
    "    \"no\": 0.7,\n",
    "    \"lieve\": 0.2,\n",
    "    \"intensa\": 0.1\n",
    "}), name=\"pioggia\")\n",
    "\n",
    "# il nodo della manutenzione sulla linea ferroviaria dipende dalla pioggia\n",
    "manutenzione = Node(ConditionalProbabilityTable([\n",
    "    [\"no\", \"si\", 0.4],\n",
    "    [\"no\", \"no\", 0.6],\n",
    "    [\"lieve\", \"si\", 0.2],\n",
    "    [\"lieve\", \"no\", 0.8],\n",
    "    [\"intensa\", \"si\", 0.1],\n",
    "    [\"intensa\", \"no\", 0.9]\n",
    "], [pioggia.distribution]), name=\"manutenzione\")\n",
    "\n",
    "# il nodo del treno è condizionato alla pioggia e alla manutenzione\n",
    "treno = Node(ConditionalProbabilityTable([\n",
    "    [\"no\", \"si\", \"puntuale\", 0.8],\n",
    "    [\"no\", \"si\", \"ritardo\", 0.2],\n",
    "    [\"no\", \"no\", \"puntuale\", 0.9],\n",
    "    [\"no\", \"no\", \"ritardo\", 0.1],\n",
    "    [\"lieve\", \"si\", \"puntuale\", 0.6],\n",
    "    [\"lieve\", \"si\", \"ritardo\", 0.4],\n",
    "    [\"lieve\", \"no\", \"puntuale\", 0.7],\n",
    "    [\"lieve\", \"no\", \"ritardo\", 0.3],\n",
    "    [\"intensa\", \"si\", \"puntuale\", 0.4],\n",
    "    [\"intensa\", \"si\", \"ritardo\", 0.6],\n",
    "    [\"intensa\", \"no\", \"puntuale\", 0.5],\n",
    "    [\"intensa\", \"no\", \"ritardo\", 0.5],\n",
    "], [pioggia.distribution, manutenzione.distribution]), name=\"treno\")\n",
    "\n",
    "# il nodo dell'appuntamento è condizionato al treno\n",
    "appuntamento = Node(ConditionalProbabilityTable([\n",
    "    [\"puntuale\", \"presente\", 0.9],\n",
    "    [\"puntuale\", \"assente\", 0.1],\n",
    "    [\"ritardo\", \"presente\", 0.6],\n",
    "    [\"ritardo\", \"assente\", 0.4]\n",
    "], [treno.distribution]), name=\"appuntamento\")\n",
    "# Possamo creare il modellolo di rete di Bayes inserendo tutti i nodi e specificando chi è genitore di chi\n",
    "# \n",
    "modello = BayesianNetwork()\n",
    "modello.add_states(pioggia, manutenzione, treno, appuntamento)\n",
    "\n",
    "# aggiungiamo la descrizione delle dipendenze con gli archi (edge) da un nodo all'altro\n",
    "modello.add_edge(pioggia, manutenzione)\n",
    "modello.add_edge(pioggia, treno)\n",
    "modello.add_edge(manutenzione, treno)\n",
    "modello.add_edge(treno, appuntamento)\n",
    "\n",
    "# usiamo/attiviamo il modello!\n",
    "modello.bake()\n"
   ]
  },
  {
   "cell_type": "markdown",
   "metadata": {},
   "source": [
    "Qual è la probabilità di nessuna pioggia e nessun lavoro sulla linea e treno in orario e sono presente all’evento/appuntamento?\n",
    "Per interrogare il modello usiamo la conoscenza che abbiamo per calcolare la probabilità cercata:\n"
   ]
  },
  {
   "cell_type": "code",
   "execution_count": 2,
   "metadata": {},
   "outputs": [
    {
     "name": "stdout",
     "output_type": "stream",
     "text": [
      "0.34019999999999995\n"
     ]
    }
   ],
   "source": [
    "\n",
    "probabilita = modello.probability([[\"no\", \"no\", \"puntuale\", \"presente\"]])\n",
    "\n",
    "print(probabilita)"
   ]
  },
  {
   "cell_type": "markdown",
   "metadata": {},
   "source": [
    "Possiamo anche usare il modello per fare delle previsioni basandoci su qualche elemento di conoscenza. \n",
    "Ad esempio se sappiamo che il treno è in ritardo cosa possiamo dire delle probabilità dei vari eventi (valori del dominio delle variabili aleatorie modellate)?"
   ]
  },
  {
   "cell_type": "code",
   "execution_count": 3,
   "metadata": {},
   "outputs": [
    {
     "name": "stdout",
     "output_type": "stream",
     "text": [
      "pioggia\n",
      "    no: 0.4583\n",
      "    lieve: 0.3069\n",
      "    intensa: 0.2348\n",
      "manutenzione\n",
      "    no: 0.6432\n",
      "    si: 0.3568\n",
      "treno: ritardo\n",
      "appuntamento\n",
      "    presente: 0.6000\n",
      "    assente: 0.4000\n"
     ]
    }
   ],
   "source": [
    "\n",
    "predizioni = modello.predict_proba({\n",
    "    \"treno\": \"ritardo\"\n",
    "})\n",
    "\n",
    "# Print predizione for each nodo\n",
    "for nodo, predizione in zip(modello.states, predizioni):\n",
    "    if isinstance(predizione, str):\n",
    "        print(f\"{nodo.name}: {predizione}\")\n",
    "    else:\n",
    "        print(f\"{nodo.name}\")\n",
    "        for value, probabilita in predizione.parameters[0].items():\n",
    "            print(f\"    {value}: {probabilita:.4f}\")"
   ]
  },
  {
   "cell_type": "markdown",
   "metadata": {},
   "source": [
    "Vedete? Data la conoscenza della circostanza che il treno è in ritardo il modello mi consente di inferire altre informazioni probabilistiche!\n",
    "Grandioso, vero?\n"
   ]
  }
 ],
 "metadata": {
  "interpreter": {
   "hash": "63fd5069d213b44bf678585dea6b12cceca9941eaf7f819626cde1f2670de90d"
  },
  "kernelspec": {
   "display_name": "Python 3.9.5 64-bit",
   "name": "python3"
  },
  "language_info": {
   "codemirror_mode": {
    "name": "ipython",
    "version": 3
   },
   "file_extension": ".py",
   "mimetype": "text/x-python",
   "name": "python",
   "nbconvert_exporter": "python",
   "pygments_lexer": "ipython3",
   "version": "3.9.5"
  },
  "orig_nbformat": 4
 },
 "nbformat": 4,
 "nbformat_minor": 2
}
